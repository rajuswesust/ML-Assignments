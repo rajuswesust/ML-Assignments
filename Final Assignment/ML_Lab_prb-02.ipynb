{
  "nbformat": 4,
  "nbformat_minor": 0,
  "metadata": {
    "colab": {
      "provenance": []
    },
    "kernelspec": {
      "name": "python3",
      "display_name": "Python 3"
    },
    "language_info": {
      "name": "python"
    }
  },
  "cells": [
    {
      "cell_type": "code",
      "execution_count": 2,
      "metadata": {
        "id": "wl4ZiwSuexwW"
      },
      "outputs": [],
      "source": [
        "import pandas as pd\n",
        "import numpy as np\n",
        "from sklearn.model_selection import train_test_split\n",
        "from sklearn.preprocessing import StandardScaler\n",
        "from sklearn.linear_model import LogisticRegression\n",
        "from sklearn.metrics import accuracy_score, confusion_matrix, classification_report\n",
        "import matplotlib.pyplot as plt\n",
        "import seaborn as sns\n"
      ]
    },
    {
      "cell_type": "code",
      "source": [
        "from google.colab import drive\n",
        "drive.mount('/content/drive')\n",
        "\n",
        "# Specify the path to the zip file and the extraction directory\n",
        "zip_file_path = '/content/drive/MyDrive/ml_datasets/bank-data.zip'\n",
        "extracted_path = '/content/dataset/'\n",
        "\n",
        "# Unzip the dataset\n",
        "!unzip -q $zip_file_path -d $extracted_path"
      ],
      "metadata": {
        "colab": {
          "base_uri": "https://localhost:8080/"
        },
        "id": "gfwonuOoe8Mf",
        "outputId": "86fdb15f-ade1-4e3e-f6af-23a655907e05"
      },
      "execution_count": 4,
      "outputs": [
        {
          "output_type": "stream",
          "name": "stdout",
          "text": [
            "Drive already mounted at /content/drive; to attempt to forcibly remount, call drive.mount(\"/content/drive\", force_remount=True).\n"
          ]
        }
      ]
    },
    {
      "cell_type": "code",
      "source": [
        "data_path = '/content/dataset/bank-data/bank-full.csv'\n",
        "df = pd.read_csv(data_path, sep=';')\n"
      ],
      "metadata": {
        "id": "UeLZz85Wf0US"
      },
      "execution_count": 5,
      "outputs": []
    },
    {
      "cell_type": "code",
      "source": [
        "print(df.info())\n",
        "print(df.describe())\n",
        "print(df.head())\n"
      ],
      "metadata": {
        "colab": {
          "base_uri": "https://localhost:8080/"
        },
        "id": "BeNnzskVgRHl",
        "outputId": "b8ff83ca-7508-4f24-d363-17765833ba11"
      },
      "execution_count": 6,
      "outputs": [
        {
          "output_type": "stream",
          "name": "stdout",
          "text": [
            "<class 'pandas.core.frame.DataFrame'>\n",
            "RangeIndex: 45211 entries, 0 to 45210\n",
            "Data columns (total 17 columns):\n",
            " #   Column     Non-Null Count  Dtype \n",
            "---  ------     --------------  ----- \n",
            " 0   age        45211 non-null  int64 \n",
            " 1   job        45211 non-null  object\n",
            " 2   marital    45211 non-null  object\n",
            " 3   education  45211 non-null  object\n",
            " 4   default    45211 non-null  object\n",
            " 5   balance    45211 non-null  int64 \n",
            " 6   housing    45211 non-null  object\n",
            " 7   loan       45211 non-null  object\n",
            " 8   contact    45211 non-null  object\n",
            " 9   day        45211 non-null  int64 \n",
            " 10  month      45211 non-null  object\n",
            " 11  duration   45211 non-null  int64 \n",
            " 12  campaign   45211 non-null  int64 \n",
            " 13  pdays      45211 non-null  int64 \n",
            " 14  previous   45211 non-null  int64 \n",
            " 15  poutcome   45211 non-null  object\n",
            " 16  y          45211 non-null  object\n",
            "dtypes: int64(7), object(10)\n",
            "memory usage: 5.9+ MB\n",
            "None\n",
            "                age        balance           day      duration      campaign  \\\n",
            "count  45211.000000   45211.000000  45211.000000  45211.000000  45211.000000   \n",
            "mean      40.936210    1362.272058     15.806419    258.163080      2.763841   \n",
            "std       10.618762    3044.765829      8.322476    257.527812      3.098021   \n",
            "min       18.000000   -8019.000000      1.000000      0.000000      1.000000   \n",
            "25%       33.000000      72.000000      8.000000    103.000000      1.000000   \n",
            "50%       39.000000     448.000000     16.000000    180.000000      2.000000   \n",
            "75%       48.000000    1428.000000     21.000000    319.000000      3.000000   \n",
            "max       95.000000  102127.000000     31.000000   4918.000000     63.000000   \n",
            "\n",
            "              pdays      previous  \n",
            "count  45211.000000  45211.000000  \n",
            "mean      40.197828      0.580323  \n",
            "std      100.128746      2.303441  \n",
            "min       -1.000000      0.000000  \n",
            "25%       -1.000000      0.000000  \n",
            "50%       -1.000000      0.000000  \n",
            "75%       -1.000000      0.000000  \n",
            "max      871.000000    275.000000  \n",
            "   age           job  marital  education default  balance housing loan  \\\n",
            "0   58    management  married   tertiary      no     2143     yes   no   \n",
            "1   44    technician   single  secondary      no       29     yes   no   \n",
            "2   33  entrepreneur  married  secondary      no        2     yes  yes   \n",
            "3   47   blue-collar  married    unknown      no     1506     yes   no   \n",
            "4   33       unknown   single    unknown      no        1      no   no   \n",
            "\n",
            "   contact  day month  duration  campaign  pdays  previous poutcome   y  \n",
            "0  unknown    5   may       261         1     -1         0  unknown  no  \n",
            "1  unknown    5   may       151         1     -1         0  unknown  no  \n",
            "2  unknown    5   may        76         1     -1         0  unknown  no  \n",
            "3  unknown    5   may        92         1     -1         0  unknown  no  \n",
            "4  unknown    5   may       198         1     -1         0  unknown  no  \n"
          ]
        }
      ]
    },
    {
      "cell_type": "code",
      "source": [
        "df.columns"
      ],
      "metadata": {
        "colab": {
          "base_uri": "https://localhost:8080/"
        },
        "id": "wG4bWcNmeP49",
        "outputId": "6921b1ee-5851-4118-bbd3-86cd2b73548f"
      },
      "execution_count": 7,
      "outputs": [
        {
          "output_type": "execute_result",
          "data": {
            "text/plain": [
              "Index(['age', 'job', 'marital', 'education', 'default', 'balance', 'housing',\n",
              "       'loan', 'contact', 'day', 'month', 'duration', 'campaign', 'pdays',\n",
              "       'previous', 'poutcome', 'y'],\n",
              "      dtype='object')"
            ]
          },
          "metadata": {},
          "execution_count": 7
        }
      ]
    },
    {
      "cell_type": "code",
      "source": [
        "print(df.dtypes)"
      ],
      "metadata": {
        "colab": {
          "base_uri": "https://localhost:8080/"
        },
        "id": "I_sGJs8hfrfB",
        "outputId": "34a1ba41-a257-49f3-8dae-7928e81b630a"
      },
      "execution_count": 8,
      "outputs": [
        {
          "output_type": "stream",
          "name": "stdout",
          "text": [
            "age           int64\n",
            "job          object\n",
            "marital      object\n",
            "education    object\n",
            "default      object\n",
            "balance       int64\n",
            "housing      object\n",
            "loan         object\n",
            "contact      object\n",
            "day           int64\n",
            "month        object\n",
            "duration      int64\n",
            "campaign      int64\n",
            "pdays         int64\n",
            "previous      int64\n",
            "poutcome     object\n",
            "y            object\n",
            "dtype: object\n"
          ]
        }
      ]
    },
    {
      "cell_type": "code",
      "source": [
        "# Convert categorical variables to numerical using one-hot encoding\n",
        "df = pd.get_dummies(df, columns=['job', 'marital', 'education', 'default', 'housing', 'loan', 'contact', 'month', 'poutcome'], drop_first=True)\n",
        "\n",
        "# Convert 'y' (target variable) to numerical\n",
        "df['y'] = df['y'].map({'yes': 1, 'no': 0})\n",
        "\n",
        "# Separate features (X) and target variable (y)\n",
        "X = df.drop('y', axis=1)\n",
        "y = df['y']\n",
        "\n",
        "# Split the dataset into training and testing sets\n",
        "X_train, X_test, y_train, y_test = train_test_split(X, y, test_size=0.2, random_state=42)\n"
      ],
      "metadata": {
        "id": "XGah02xogCYf"
      },
      "execution_count": 9,
      "outputs": []
    },
    {
      "cell_type": "code",
      "source": [
        "scaler = StandardScaler()\n",
        "X_train = scaler.fit_transform(X_train)\n",
        "X_test = scaler.transform(X_test)\n",
        "\n",
        "#train\n",
        "model = LogisticRegression(random_state=42)\n",
        "model.fit(X_train, y_train)\n",
        "\n",
        "#predict\n",
        "y_pred = model.predict(X_test)"
      ],
      "metadata": {
        "id": "lQybgAwPgNpd"
      },
      "execution_count": 14,
      "outputs": []
    },
    {
      "cell_type": "code",
      "source": [
        "# Accuracy\n",
        "accuracy = accuracy_score(y_test, y_pred)\n",
        "print(\"Accuracy:\", accuracy)\n",
        "\n",
        "# Confusion Matrix\n",
        "conf_matrix = confusion_matrix(y_test, y_pred)\n",
        "print(\"Confusion Matrix:\\n\", conf_matrix)\n",
        "\n",
        "# Classification Report\n",
        "class_report = classification_report(y_test, y_pred)\n",
        "print(\"Classification Report:\\n\", class_report)\n"
      ],
      "metadata": {
        "colab": {
          "base_uri": "https://localhost:8080/"
        },
        "id": "n0Ytc9E_gZVB",
        "outputId": "828b38ea-2d25-4bab-aee6-811bf653a6c9"
      },
      "execution_count": 15,
      "outputs": [
        {
          "output_type": "stream",
          "name": "stdout",
          "text": [
            "Accuracy: 0.8987061815769103\n",
            "Confusion Matrix:\n",
            " [[7755  197]\n",
            " [ 719  372]]\n",
            "Classification Report:\n",
            "               precision    recall  f1-score   support\n",
            "\n",
            "           0       0.92      0.98      0.94      7952\n",
            "           1       0.65      0.34      0.45      1091\n",
            "\n",
            "    accuracy                           0.90      9043\n",
            "   macro avg       0.78      0.66      0.70      9043\n",
            "weighted avg       0.88      0.90      0.88      9043\n",
            "\n"
          ]
        }
      ]
    },
    {
      "cell_type": "code",
      "source": [
        "# Confusion Matrix Heatmap\n",
        "plt.figure(figsize=(8, 6))\n",
        "sns.heatmap(conf_matrix, annot=True, fmt='d', cmap='Blues', xticklabels=['No', 'Yes'], yticklabels=['No', 'Yes'])\n",
        "plt.title('Confusion Matrix')\n",
        "plt.xlabel('Predicted')\n",
        "plt.ylabel('Actual')\n",
        "plt.show()\n"
      ],
      "metadata": {
        "colab": {
          "base_uri": "https://localhost:8080/",
          "height": 564
        },
        "id": "aZbudYEbgcSc",
        "outputId": "5780a092-2349-45e8-ca0a-e28b5e837027"
      },
      "execution_count": 16,
      "outputs": [
        {
          "output_type": "display_data",
          "data": {
            "text/plain": [
              "<Figure size 800x600 with 2 Axes>"
            ],
            "image/png": "[encoded data removed]"
          },
          "metadata": {}
        }
      ]
    }
  ]
}