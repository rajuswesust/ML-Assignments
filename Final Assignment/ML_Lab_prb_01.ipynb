{
  "nbformat": 4,
  "nbformat_minor": 0,
  "metadata": {
    "colab": {
      "provenance": [],
      "toc_visible": true
    },
    "kernelspec": {
      "name": "python3",
      "display_name": "Python 3"
    },
    "language_info": {
      "name": "python"
    }
  },
  "cells": [
    {
      "cell_type": "code",
      "execution_count": 15,
      "metadata": {
        "colab": {
          "base_uri": "https://localhost:8080/"
        },
        "id": "RiAaqSEe95mq",
        "outputId": "19b87148-5503-4155-9f5f-c7808032ea91"
      },
      "outputs": [
        {
          "output_type": "stream",
          "name": "stdout",
          "text": [
            "Drive already mounted at /content/drive; to attempt to forcibly remount, call drive.mount(\"/content/drive\", force_remount=True).\n"
          ]
        }
      ],
      "source": [
        "from google.colab import drive\n",
        "drive.mount('/content/drive')"
      ]
    },
    {
      "cell_type": "code",
      "source": [
        "import os\n",
        "import tensorflow as tf\n",
        "from tensorflow.keras.preprocessing.image import ImageDataGenerator"
      ],
      "metadata": {
        "id": "yARDDIjrAdIr"
      },
      "execution_count": 31,
      "outputs": []
    },
    {
      "cell_type": "code",
      "source": [
        "!pwd"
      ],
      "metadata": {
        "colab": {
          "base_uri": "https://localhost:8080/"
        },
        "id": "XFXY1qjTAlTO",
        "outputId": "68be4fbd-890d-4e2a-e42b-4d22dd430e43"
      },
      "execution_count": 17,
      "outputs": [
        {
          "output_type": "stream",
          "name": "stdout",
          "text": [
            "/content\n"
          ]
        }
      ]
    },
    {
      "cell_type": "code",
      "source": [
        "# Specify the path to the zip file and the extraction directory\n",
        "zip_file_path = '/content/drive/MyDrive/ml_datasets/Archive.zip'\n",
        "extracted_path = '/content/dataset/'\n",
        "\n",
        "# Unzip the dataset\n",
        "!unzip -q $zip_file_path -d $extracted_path"
      ],
      "metadata": {
        "id": "uNFZkS9OBSl5",
        "colab": {
          "base_uri": "https://localhost:8080/"
        },
        "outputId": "b53b910d-4719-4746-ad47-c9f16d25b375"
      },
      "execution_count": 33,
      "outputs": [
        {
          "output_type": "stream",
          "name": "stdout",
          "text": [
            "replace /content/dataset/test/.DS_Store? [y]es, [n]o, [A]ll, [N]one, [r]ename: "
          ]
        }
      ]
    },
    {
      "cell_type": "code",
      "source": [
        "base_path = '/content/dataset/'\n",
        "train_path = os.path.join(base_path, 'train')\n",
        "test_path = os.path.join(base_path, 'test')\n",
        "val_path = os.path.join(base_path, 'val')\n"
      ],
      "metadata": {
        "id": "Li5l0B9uEeD2"
      },
      "execution_count": 37,
      "outputs": []
    },
    {
      "cell_type": "code",
      "source": [
        "print(\"Base Path:\", base_path)\n",
        "print(\"Train Path:\", train_path)\n",
        "print(\"Test Path:\", test_path)\n",
        "print(\"Validation Path:\", val_path)"
      ],
      "metadata": {
        "colab": {
          "base_uri": "https://localhost:8080/"
        },
        "id": "r04SwTl_IlNu",
        "outputId": "c09dc53e-dbca-40f4-f619-4b02ee667a7a"
      },
      "execution_count": 38,
      "outputs": [
        {
          "output_type": "stream",
          "name": "stdout",
          "text": [
            "Base Path: /content/dataset/\n",
            "Train Path: /content/dataset/train\n",
            "Test Path: /content/dataset/test\n",
            "Validation Path: /content/dataset/val\n"
          ]
        }
      ]
    },
    {
      "cell_type": "code",
      "source": [
        "#Create data generators with augmentation for the training set\n",
        "train_datagen = ImageDataGenerator(\n",
        "    rescale=1./255,\n",
        "    shear_range=0.2,\n",
        "    zoom_range=0.2,\n",
        "    horizontal_flip=True\n",
        ")\n",
        "\n",
        "train_generator = train_datagen.flow_from_directory(\n",
        "    train_path,\n",
        "    target_size=(224, 224),  # adjust size as needed\n",
        "    batch_size=32,\n",
        "    class_mode='binary'  # 'binary' for two classes (Pneumonia and Normal)\n",
        ")\n"
      ],
      "metadata": {
        "colab": {
          "base_uri": "https://localhost:8080/"
        },
        "id": "5dabFQ5-IHF7",
        "outputId": "2b5c1a63-a9c7-4139-e798-1b17c95dd739"
      },
      "execution_count": 39,
      "outputs": [
        {
          "output_type": "stream",
          "name": "stdout",
          "text": [
            "Found 5216 images belonging to 2 classes.\n"
          ]
        }
      ]
    },
    {
      "cell_type": "code",
      "source": [
        "# Create data generators with rescaling for the validation set\n",
        "val_datagen = ImageDataGenerator(rescale=1./255)\n",
        "\n",
        "val_generator = val_datagen.flow_from_directory(\n",
        "    val_path,\n",
        "    target_size=(224, 224),\n",
        "    batch_size=32,\n",
        "    class_mode='binary'\n",
        ")"
      ],
      "metadata": {
        "colab": {
          "base_uri": "https://localhost:8080/"
        },
        "id": "fmxRjRPmJG1a",
        "outputId": "a7a729cd-8780-41ae-ecea-ece85ad9bb8f"
      },
      "execution_count": 40,
      "outputs": [
        {
          "output_type": "stream",
          "name": "stdout",
          "text": [
            "Found 16 images belonging to 2 classes.\n"
          ]
        }
      ]
    },
    {
      "cell_type": "code",
      "source": [
        "#Import the necessary libraries\n",
        "from tensorflow.keras.models import Sequential\n",
        "from tensorflow.keras.layers import Conv2D, MaxPooling2D, Flatten, Dense\n"
      ],
      "metadata": {
        "id": "63XfP2CtJZPU"
      },
      "execution_count": 41,
      "outputs": []
    },
    {
      "cell_type": "code",
      "source": [
        "# Build the CNN model\n",
        "model = Sequential()\n",
        "\n",
        "model.add(Conv2D(32, (3, 3), input_shape=(224, 224, 3), activation='relu'))\n",
        "model.add(MaxPooling2D(pool_size=(2, 2)))\n",
        "\n",
        "model.add(Conv2D(64, (3, 3), activation='relu'))\n",
        "model.add(MaxPooling2D(pool_size=(2, 2)))\n",
        "\n",
        "model.add(Conv2D(128, (3, 3), activation='relu'))\n",
        "model.add(MaxPooling2D(pool_size=(2, 2)))\n",
        "\n",
        "model.add(Flatten())\n",
        "model.add(Dense(128, activation='relu'))\n",
        "model.add(Dense(1, activation='sigmoid'))  # Binary classification\n",
        "\n",
        "model.compile(optimizer='adam', loss='binary_crossentropy', metrics=['accuracy'])\n"
      ],
      "metadata": {
        "id": "Pg6ChHVMJoYz"
      },
      "execution_count": 42,
      "outputs": []
    },
    {
      "cell_type": "code",
      "source": [
        "#checking the sample and batch size for tranning purpose\n",
        "print(\"Number of samples in the training set:\", train_generator.samples)\n",
        "print(\"Number of samples in the training set:\", val_generator.samples)"
      ],
      "metadata": {
        "colab": {
          "base_uri": "https://localhost:8080/"
        },
        "id": "fLgeFB1_J1r4",
        "outputId": "b36e16bd-fbce-4c25-ec00-841f2bb0c68b"
      },
      "execution_count": 43,
      "outputs": [
        {
          "output_type": "stream",
          "name": "stdout",
          "text": [
            "Number of samples in the training set: 5216\n",
            "Number of samples in the training set: 16\n"
          ]
        }
      ]
    },
    {
      "cell_type": "code",
      "source": [
        "# Train the model using the training generator\n",
        "dh = model.fit(train_generator, epochs=10, validation_data=val_generator)"
      ],
      "metadata": {
        "colab": {
          "base_uri": "https://localhost:8080/"
        },
        "id": "90WonyQQJ81R",
        "outputId": "6806cfe7-5a3b-45d8-9b85-db53c1451b36"
      },
      "execution_count": 45,
      "outputs": [
        {
          "output_type": "stream",
          "name": "stdout",
          "text": [
            "Epoch 1/10\n",
            "163/163 [==============================] - 713s 4s/step - loss: 0.3278 - accuracy: 0.8618 - val_loss: 0.4633 - val_accuracy: 0.8125\n",
            "Epoch 2/10\n",
            "163/163 [==============================] - 715s 4s/step - loss: 0.2204 - accuracy: 0.9068 - val_loss: 1.1002 - val_accuracy: 0.6875\n",
            "Epoch 3/10\n",
            "163/163 [==============================] - 715s 4s/step - loss: 0.2046 - accuracy: 0.9166 - val_loss: 0.4878 - val_accuracy: 0.8750\n",
            "Epoch 4/10\n",
            "163/163 [==============================] - 726s 4s/step - loss: 0.1640 - accuracy: 0.9356 - val_loss: 0.8506 - val_accuracy: 0.6875\n",
            "Epoch 5/10\n",
            "163/163 [==============================] - 731s 4s/step - loss: 0.1725 - accuracy: 0.9321 - val_loss: 0.8558 - val_accuracy: 0.6875\n",
            "Epoch 6/10\n",
            "163/163 [==============================] - 742s 5s/step - loss: 0.1502 - accuracy: 0.9387 - val_loss: 0.4489 - val_accuracy: 0.8125\n",
            "Epoch 7/10\n",
            "163/163 [==============================] - 717s 4s/step - loss: 0.1495 - accuracy: 0.9438 - val_loss: 0.5824 - val_accuracy: 0.7500\n",
            "Epoch 8/10\n",
            "163/163 [==============================] - 712s 4s/step - loss: 0.1317 - accuracy: 0.9480 - val_loss: 1.1500 - val_accuracy: 0.6250\n",
            "Epoch 9/10\n",
            "163/163 [==============================] - 711s 4s/step - loss: 0.1266 - accuracy: 0.9502 - val_loss: 0.4880 - val_accuracy: 0.7500\n",
            "Epoch 10/10\n",
            "163/163 [==============================] - 702s 4s/step - loss: 0.1226 - accuracy: 0.9507 - val_loss: 0.2461 - val_accuracy: 0.8750\n"
          ]
        }
      ]
    },
    {
      "cell_type": "code",
      "source": [
        "#Evaluate the model on the test set\n",
        "test_datagen = ImageDataGenerator(rescale=1./255)\n",
        "test_generator = test_datagen.flow_from_directory(\n",
        "    test_path,\n",
        "    target_size=(224, 224),\n",
        "    batch_size=32,\n",
        "    class_mode='binary'\n",
        ")\n",
        "\n",
        "eval_result = model.evaluate(test_generator)\n",
        "print(\"Test Loss:\", eval_result[0])\n",
        "print(\"Test Accuracy:\", eval_result[1])\n"
      ],
      "metadata": {
        "colab": {
          "base_uri": "https://localhost:8080/"
        },
        "id": "ph6HqrjkqeSR",
        "outputId": "16f734ae-58b0-413e-a088-f4b3af873c10"
      },
      "execution_count": 48,
      "outputs": [
        {
          "output_type": "stream",
          "name": "stdout",
          "text": [
            "Found 624 images belonging to 2 classes.\n",
            "20/20 [==============================] - 26s 1s/step - loss: 0.4437 - accuracy: 0.8606\n",
            "Test Loss: 0.44371315836906433\n",
            "Test Accuracy: 0.8605769276618958\n"
          ]
        }
      ]
    },
    {
      "cell_type": "code",
      "source": [
        "from sklearn.metrics import confusion_matrix, classification_report, precision_recall_curve\n",
        "\n",
        "# Assuming you have the test generator set up with the correct target size, batch size, etc.\n",
        "# You don't need to specify steps if your test set is small enough to fit in memory\n",
        "# If you have a large test set that doesn't fit in memory, consider using a loop and accumulating predictions.\n",
        "\n",
        "# Make predictions on the test set\n",
        "predictions = model.predict(test_generator)\n",
        "\n",
        "# Convert predicted probabilities to classes\n",
        "predicted_classes = (predictions > 0.5).astype(int)\n",
        "\n",
        "# Get true labels from the test generator\n",
        "true_labels = test_generator.classes\n",
        "\n",
        "# Map class indices to class labels\n",
        "class_labels = list(test_generator.class_indices.keys())\n",
        "\n",
        "# Generate Confusion Matrix\n",
        "conf_matrix = confusion_matrix(true_labels, predicted_classes)\n",
        "\n",
        "# Generate Classification Report\n",
        "class_report = classification_report(true_labels, predicted_classes, target_names=class_labels)\n",
        "\n",
        "print(\"Confusion Matrix:\")\n",
        "print(conf_matrix)\n",
        "\n",
        "print(\"\\nClassification Report:\")\n",
        "print(class_report)\n"
      ],
      "metadata": {
        "colab": {
          "base_uri": "https://localhost:8080/"
        },
        "id": "iE33PiNmrN5J",
        "outputId": "34817944-75ea-4308-810f-b01ab8a91508"
      },
      "execution_count": 49,
      "outputs": [
        {
          "output_type": "stream",
          "name": "stdout",
          "text": [
            "20/20 [==============================] - 40s 1s/step\n",
            "Confusion Matrix:\n",
            "[[ 71 163]\n",
            " [ 90 300]]\n",
            "\n",
            "Classification Report:\n",
            "              precision    recall  f1-score   support\n",
            "\n",
            "      NORMAL       0.44      0.30      0.36       234\n",
            "   PNEUMONIA       0.65      0.77      0.70       390\n",
            "\n",
            "    accuracy                           0.59       624\n",
            "   macro avg       0.54      0.54      0.53       624\n",
            "weighted avg       0.57      0.59      0.57       624\n",
            "\n"
          ]
        }
      ]
    },
    {
      "cell_type": "code",
      "source": [
        "!pip install matplotlib seaborn scikit-learn"
      ],
      "metadata": {
        "colab": {
          "base_uri": "https://localhost:8080/"
        },
        "id": "OVRFCjVv4WPb",
        "outputId": "64f840c7-81cb-41e1-ef05-0dd8d833dd48"
      },
      "execution_count": 51,
      "outputs": [
        {
          "output_type": "stream",
          "name": "stdout",
          "text": [
            "Requirement already satisfied: matplotlib in /usr/local/lib/python3.10/dist-packages (3.7.1)\n",
            "Requirement already satisfied: seaborn in /usr/local/lib/python3.10/dist-packages (0.13.1)\n",
            "Requirement already satisfied: scikit-learn in /usr/local/lib/python3.10/dist-packages (1.2.2)\n",
            "Requirement already satisfied: contourpy>=1.0.1 in /usr/local/lib/python3.10/dist-packages (from matplotlib) (1.2.0)\n",
            "Requirement already satisfied: cycler>=0.10 in /usr/local/lib/python3.10/dist-packages (from matplotlib) (0.12.1)\n",
            "Requirement already satisfied: fonttools>=4.22.0 in /usr/local/lib/python3.10/dist-packages (from matplotlib) (4.47.2)\n",
            "Requirement already satisfied: kiwisolver>=1.0.1 in /usr/local/lib/python3.10/dist-packages (from matplotlib) (1.4.5)\n",
            "Requirement already satisfied: numpy>=1.20 in /usr/local/lib/python3.10/dist-packages (from matplotlib) (1.23.5)\n",
            "Requirement already satisfied: packaging>=20.0 in /usr/local/lib/python3.10/dist-packages (from matplotlib) (23.2)\n",
            "Requirement already satisfied: pillow>=6.2.0 in /usr/local/lib/python3.10/dist-packages (from matplotlib) (9.4.0)\n",
            "Requirement already satisfied: pyparsing>=2.3.1 in /usr/local/lib/python3.10/dist-packages (from matplotlib) (3.1.1)\n",
            "Requirement already satisfied: python-dateutil>=2.7 in /usr/local/lib/python3.10/dist-packages (from matplotlib) (2.8.2)\n",
            "Requirement already satisfied: pandas>=1.2 in /usr/local/lib/python3.10/dist-packages (from seaborn) (1.5.3)\n",
            "Requirement already satisfied: scipy>=1.3.2 in /usr/local/lib/python3.10/dist-packages (from scikit-learn) (1.11.4)\n",
            "Requirement already satisfied: joblib>=1.1.1 in /usr/local/lib/python3.10/dist-packages (from scikit-learn) (1.3.2)\n",
            "Requirement already satisfied: threadpoolctl>=2.0.0 in /usr/local/lib/python3.10/dist-packages (from scikit-learn) (3.2.0)\n",
            "Requirement already satisfied: pytz>=2020.1 in /usr/local/lib/python3.10/dist-packages (from pandas>=1.2->seaborn) (2023.3.post1)\n",
            "Requirement already satisfied: six>=1.5 in /usr/local/lib/python3.10/dist-packages (from python-dateutil>=2.7->matplotlib) (1.16.0)\n"
          ]
        }
      ]
    },
    {
      "cell_type": "code",
      "source": [
        "import matplotlib.pyplot as plt\n",
        "import seaborn as sns\n",
        "from sklearn.metrics import precision_recall_curve\n",
        "\n",
        "# Assuming you have true_labels, predicted_classes, and class_labels defined\n",
        "\n",
        "# Generate Confusion Matrix\n",
        "conf_matrix = confusion_matrix(true_labels, predicted_classes)\n",
        "\n",
        "# Generate Classification Report\n",
        "class_report = classification_report(true_labels, predicted_classes, target_names=class_labels)\n",
        "\n",
        "# Plot Confusion Matrix\n",
        "plt.figure(figsize=(8, 6))\n",
        "sns.heatmap(conf_matrix, annot=True, fmt='d', cmap='Blues', xticklabels=class_labels, yticklabels=class_labels)\n",
        "plt.title('Confusion Matrix')\n",
        "plt.xlabel('Predicted')\n",
        "plt.ylabel('Actual')\n",
        "plt.show()\n",
        "\n",
        "# Plot Precision-Recall Curve\n",
        "precision, recall, _ = precision_recall_curve(true_labels, predictions)\n",
        "plt.figure(figsize=(8, 6))\n",
        "plt.plot(recall, precision, color='b', marker='o', linestyle='-', linewidth=2)\n",
        "plt.title('Precision-Recall Curve')\n",
        "plt.xlabel('Recall')\n",
        "plt.ylabel('Precision')\n",
        "plt.show()\n"
      ],
      "metadata": {
        "colab": {
          "base_uri": "https://localhost:8080/",
          "height": 1000
        },
        "id": "aWmdWV6p3fXl",
        "outputId": "415a9d68-5c72-4647-8da8-24fa612db9cb"
      },
      "execution_count": 53,
      "outputs": [
        {
          "output_type": "display_data",
          "data": {
            "text/plain": [
              "<Figure size 800x600 with 2 Axes>"
            ],
            "image/png": "[encoded data removed]"
          },
          "metadata": {}
        },
        {
          "output_type": "display_data",
          "data": {
            "text/plain": [
              "<Figure size 800x600 with 1 Axes>"
            ],
            "image/png": "[encoded data removed]"
          },
          "metadata": {}
        }
      ]
    }
  ]
}